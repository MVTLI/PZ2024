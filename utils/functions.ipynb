{
 "cells": [
  {
   "cell_type": "code",
   "execution_count": null,
   "metadata": {},
   "outputs": [],
   "source": [
    "from pyspark.sql import Row\n",
    "\n",
    "from pyspark.sql.functions import from_json, col\n",
    "\n",
    "import time\n",
    "import requests\n",
    "import json\n",
    "\n",
    "\n",
    "def get_api_data(url):\n",
    "    try:\n",
    "        response = requests.get(url)\n",
    "        if response.status_code == 200:\n",
    "            return json.loads(response.text)\n",
    "        else:\n",
    "            print(f\"Failed to retrieve data. Status Code: {response.status_code}\")\n",
    "            return None\n",
    "    except Exception as e:\n",
    "        print(f\"Error occurred: {e}\")\n",
    "        return None\n",
    "\n",
    "def process_api_stream(urls, spark, schema, batch_interval=60):\n",
    "    #while True:\n",
    "        all_data = []\n",
    "        for url in urls:\n",
    "            data = get_api_data(url)\n",
    "            if data:\n",
    "                all_data.append(data)\n",
    "        \n",
    "        # Convert the JSON data into Spark DataFrame\n",
    "        if all_data:\n",
    "            # Here we simulate rows. Adjust based on actual API response format\n",
    "            df = spark.createDataFrame([Row(**item) for item in all_data], schema)\n",
    "            \n",
    "            # Process the DataFrame (e.g., transform, clean, etc.)\n",
    "            df.show(truncate=False)\n",
    "\n",
    "            # Save to a table (e.g., Hive, PostgreSQL, or HDFS)\n",
    "            df.write \\\n",
    "                .format(\"parquet\") \\\n",
    "                .mode(\"append\") \\\n",
    "                .saveAsTable(\"default.APIData\")  # Modify this to your table destination\n",
    "\n",
    "        # Sleep for the batch interval (e.g., 60 seconds)\n",
    "        time.sleep(batch_interval)\n"
   ]
  },
  {
   "cell_type": "code",
   "execution_count": null,
   "metadata": {},
   "outputs": [],
   "source": [
    "print(\"Functions loaded!\")"
   ]
  }
 ],
 "metadata": {
  "kernelspec": {
   "display_name": "venv",
   "language": "python",
   "name": "python3"
  },
  "language_info": {
   "name": "python",
   "version": "3.10.11"
  }
 },
 "nbformat": 4,
 "nbformat_minor": 2
}
